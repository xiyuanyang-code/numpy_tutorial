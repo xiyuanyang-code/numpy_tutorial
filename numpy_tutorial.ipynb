{
 "cells": [
  {
   "cell_type": "markdown",
   "metadata": {},
   "source": [
    "# Numpy tutorial"
   ]
  },
  {
   "cell_type": "markdown",
   "metadata": {},
   "source": [
    "## Preliminaries"
   ]
  },
  {
   "cell_type": "markdown",
   "metadata": {},
   "source": [
    "\n",
    "This command is for importing the numpy module in your python scripts:\n",
    "```bash\n",
    "pip install numpy\n",
    "```\n",
    "\n",
    "You can also use the `requirements.txt` file in this repo.\n",
    "```bash\n",
    "pip install -r requirements.txt\n",
    "```\n",
    "\n",
    "You can use functions in numpy via `np.XX` (e.g. `np.array`)\n",
    "\n",
    "You can replace it with:\n",
    "\n",
    "- import numpy as (anything word you like)\n",
    "\n",
    "- from numpy import numpy (danger! This may cause conflicts in different functions. I don't recommend for this way of importing numpy)\n"
   ]
  },
  {
   "cell_type": "code",
   "execution_count": 1,
   "metadata": {},
   "outputs": [
    {
     "name": "stdout",
     "output_type": "stream",
     "text": [
      "1.26.4\n"
     ]
    }
   ],
   "source": [
    "# make sure you have installed numpy via:\n",
    "# pip install numpy\n",
    "\n",
    "import numpy as np\n",
    "\n",
    "print(np.__version__)"
   ]
  },
  {
   "cell_type": "markdown",
   "metadata": {},
   "source": [
    "## Creating arrays and matrix"
   ]
  },
  {
   "cell_type": "markdown",
   "metadata": {},
   "source": [
    "You can create **arrays** in `numpy` of different dimensions, which is one of the most frequently used commands in numpy.\n",
    "\n",
    "- Creating arrays manually\n",
    "\n",
    "    You can create arrays manually by **writing all elements into the arrays**.\n",
    "\n"
   ]
  },
  {
   "cell_type": "code",
   "execution_count": null,
   "metadata": {},
   "outputs": [],
   "source": [
    "# Creating arrays manually\n",
    "\n",
    "# One dimension (like a vector storing int value)\n",
    "array_1d = np.array([1,2,3,4])\n",
    "\n",
    "# Two dimensions (4*4)\n",
    "array_2d = np.array([[1,2,3,4],[5,6,7,8],[9,10,11,12],[13,1,4,16]])\n",
    "\n",
    "# Three dimensions (more complex)\n",
    "array_3d = np.array([[[1,2],[3,4]],[[5,6],[7,8]]])\n",
    "\n",
    "# Visualize\n",
    "print(f\"Showing arrays of one-dimension: \\n\",array_1d)\n",
    "print(f\"Showing arrays of two-dimensions: \\n\",array_2d)\n",
    "print(f\"Showing arrays of three-dimensions: \\n\",array_3d)\n"
   ]
  },
  {
   "cell_type": "markdown",
   "metadata": {},
   "source": [
    "- Creating several **templates**\n",
    "\n",
    "    It's time-consuming to write all elements in your python scripts if the size or the dimensions of arrays becomes very large. (More bigger the dimension is, there are more square backets!)\n",
    "\n",
    "    Thus, you can use the templates in `numpy` to initilize an array automatically."
   ]
  },
  {
   "cell_type": "code",
   "execution_count": null,
   "metadata": {},
   "outputs": [],
   "source": [
    "# Creating several templates\n",
    "\n",
    "# If all elements of the matrix is of the same initial value:\n",
    "\n",
    "# For zero-matrix\n",
    "zero_int_matrix = np.zeros((5,5), dtype = 'int64')\n",
    "zero_double_matrix = np.zeros((4,5), dtype = 'float64')\n",
    "zero_int_bigger_matrix = np.zeros((2,2,2))\n",
    "\n",
    "print(zero_int_matrix)\n",
    "print(zero_double_matrix)\n",
    "print(zero_int_bigger_matrix)\n",
    "\n",
    "\n",
    "# For matrix filled with ones\n",
    "ones_matrix = np.ones((4,4,2), dtype='int32')\n",
    "print(ones_matrix)\n",
    "\n",
    "# Identity Matrix\n",
    "indentity_matrix = np.identity(6)\n",
    "print(indentity_matrix)\n"
   ]
  },
  {
   "cell_type": "code",
   "execution_count": null,
   "metadata": {},
   "outputs": [],
   "source": [
    "# Filled with a specific number\n",
    "tobefilled = 64\n",
    "\n",
    "# Using full to fill an array with a given size (like 3*4)\n",
    "filled_array = np.full((3,4), fill_value= tobefilled, dtype = 'int64')\n",
    "print(filled_array)\n",
    "\n",
    "# Using full_like to return a full array with the same shape and type as a given array.\n",
    "filled_like_1 = np.full_like(filled_array, fill_value=tobefilled, dtype='float64')\n",
    "filled_like_2 = np.full_like(filled_array, fill_value= 1)\n",
    "\n",
    "print(filled_like_1)\n",
    "print(filled_like_2)"
   ]
  },
  {
   "cell_type": "markdown",
   "metadata": {},
   "source": [
    "Moreover, you can generate arrays **randomly** using the `random` module in numpy.\n",
    "\n",
    "- `np.random.rand` function is used to generate an array of a given size with a a uniform distribution over [0, 1).\n",
    "\n",
    "- `randint` function is used to return random integers from a boundary of [a,b)."
   ]
  },
  {
   "cell_type": "code",
   "execution_count": null,
   "metadata": {},
   "outputs": [],
   "source": [
    "# Generating random arrays\n",
    "\n",
    "# Create an array of the given shape and populate it with random samples from a uniform distribution over [0, 1).\n",
    "random_decimals = np.round(np.random.rand(10, 10), 2)\n",
    "print(random_decimals)\n",
    "\n",
    "# Return random integers from low (inclusive) to high (exclusive).\n",
    "random_integers = np.random.randint(-4, 8, size=(3, 3))\n",
    "print(random_integers)\n"
   ]
  },
  {
   "cell_type": "markdown",
   "metadata": {},
   "source": [
    "## Checking parameters of Arrays"
   ]
  },
  {
   "cell_type": "markdown",
   "metadata": {},
   "source": [
    "You can checking several basic information of an array using `print()` function.\n",
    "\n",
    "- print the array: It will show all elements of the array.\n",
    "\n",
    "- `dtype`: The data type of the array.\n",
    "\n",
    "- `ndim`: The dimensions of the array.\n",
    "\n",
    "- `shape`: The size of the array.\n",
    "\n",
    "- `itemsize`: The size of the single element in the array.\n",
    "\n",
    "- `nbytes`: The total size of the array.\n"
   ]
  },
  {
   "cell_type": "code",
   "execution_count": null,
   "metadata": {},
   "outputs": [],
   "source": [
    "# Checking parameters of Arrays\n",
    "\n",
    "checked_array = np.round(np.random.rand(4,4,4))\n",
    "\n",
    "print(checked_array)\n",
    "print(checked_array.dtype)\n",
    "print(checked_array.ndim)\n",
    "print(checked_array.shape)\n",
    "print(checked_array.itemsize)\n",
    "print(checked_array.nbytes)"
   ]
  },
  {
   "cell_type": "markdown",
   "metadata": {},
   "source": [
    "Wow! You have sucessfully created various arrays! In the following chapter, you will learn how to **operate arrays and make some calculations**."
   ]
  },
  {
   "cell_type": "markdown",
   "metadata": {},
   "source": [
    "## Accessing and modifying elements"
   ]
  },
  {
   "cell_type": "markdown",
   "metadata": {},
   "source": [
    "### Slices"
   ]
  },
  {
   "cell_type": "markdown",
   "metadata": {},
   "source": [
    "We can get the slices of the array and access specific elements by using `[]` operator. The scripts below shows the fundamental usage of it."
   ]
  },
  {
   "cell_type": "code",
   "execution_count": null,
   "metadata": {},
   "outputs": [],
   "source": [
    "get_element = np.round(np.random.rand(4,4,4),3)\n",
    "\n",
    "# See the whole array and its size.\n",
    "# print(get_element)\n",
    "print(get_element.ndim, get_element.shape)\n",
    "\n",
    "# Slices\n",
    "print(\"\\n\")\n",
    "sliced_array_1 = get_element[0]\n",
    "print(sliced_array_1)\n",
    "print(sliced_array_1.ndim, sliced_array_1.shape)\n",
    "\n",
    "print(\"\\n\")\n",
    "sliced_array_1 = get_element[0,0]\n",
    "print(sliced_array_1)\n",
    "print(sliced_array_1.ndim, sliced_array_1.shape)\n",
    "\n",
    "print(\"\\n\")\n",
    "sliced_array_1 = get_element[0,0,0]\n",
    "print(sliced_array_1)\n",
    "print(sliced_array_1.ndim, sliced_array_1.shape)"
   ]
  },
  {
   "cell_type": "markdown",
   "metadata": {},
   "source": [
    "From the example shown above, we know that `[]` can get an array's slices and decrease array's dimensions. It's just like **peeling an onion**!\n",
    "\n",
    "Regarding the **different dimensions** of an array, you can determine different dimensions by counting square brackets.\n"
   ]
  },
  {
   "cell_type": "markdown",
   "metadata": {},
   "source": [
    "Moreover, you can use `:` to make the slices more powerful."
   ]
  },
  {
   "cell_type": "code",
   "execution_count": null,
   "metadata": {},
   "outputs": [],
   "source": [
    "# The demonstration of using : in slices\n",
    "\n",
    "print(get_element[0])\n",
    "print(get_element[0,:])\n",
    "print(get_element[0,2:,3:])\n",
    "print(get_element[0,:3])\n",
    "\n",
    "# Advanced usage: slicing with step size\n",
    "# -1 means the end\n",
    "print(get_element[0,0:-1:2])\n"
   ]
  },
  {
   "cell_type": "markdown",
   "metadata": {},
   "source": [
    "The colon `:` operator is used for slicing, which enables you to select a range of elements. \n",
    "\n",
    "For example, array[start:end] retrieves elements from the index start to end-1. If you use : alone, like array[:], it returns the entire array. You can also specify a step, such as array[start:end:step], which selects elements at regular intervals. \n",
    "\n",
    "Additionally, when working with multi-dimensional arrays, you can use a comma to separate indices for each dimension, like array[row_index, column_index]. The colon can be applied to each dimension, allowing for complex selections, such as array[:, 1:3], which selects all rows but only columns 1 and 2."
   ]
  },
  {
   "cell_type": "markdown",
   "metadata": {},
   "source": [
    "For me, I prefer to memorize `:` as a **greedy symbol**, which means get all the index from the current position to the end (or the beginning).\n",
    "\n",
    "For example, `get_element[0,2:,3:]` means for the second dimension, we just want from the 2 (included) till the end. The third dimension is the same. If `:` is before the number like `get_element[0,:3]`, this means for second dimension, we want (from the begining) to the index 3 (excluded)."
   ]
  },
  {
   "cell_type": "markdown",
   "metadata": {},
   "source": [
    "### Modifications"
   ]
  },
  {
   "cell_type": "markdown",
   "metadata": {},
   "source": [
    "You can also modify values (or even slices) of the array by giving the right index.\n",
    "\n",
    "Make sure **the size of the array doesn't mismatch!**"
   ]
  },
  {
   "cell_type": "code",
   "execution_count": null,
   "metadata": {},
   "outputs": [],
   "source": [
    "# Modification\n",
    "get_element[0,0,0] = 100\n",
    "\n",
    "np.set_printoptions(suppress=True)\n",
    "print(get_element)\n",
    "\n",
    "get_element[0,0,:] = [20, 20, 20, 20]\n",
    "print(get_element)"
   ]
  },
  {
   "cell_type": "code",
   "execution_count": null,
   "metadata": {},
   "outputs": [],
   "source": [
    "# However, this may cause an error\n",
    "get_element[0,0,:] = [10, 10]\n",
    "print(get_element)\n",
    "\n",
    "'''\n",
    "Error message:\n",
    "ValueError: could not broadcast input array from shape (2,) into shape (4,)\n",
    "'''"
   ]
  },
  {
   "cell_type": "markdown",
   "metadata": {},
   "source": [
    "## Repetition, Copying and Reshaping"
   ]
  },
  {
   "cell_type": "markdown",
   "metadata": {},
   "source": [
    "You can **repeat**, **reshape** and **copy** arrays!"
   ]
  },
  {
   "cell_type": "markdown",
   "metadata": {},
   "source": [
    "### Repeat"
   ]
  },
  {
   "cell_type": "code",
   "execution_count": null,
   "metadata": {},
   "outputs": [],
   "source": [
    "base_array = np.round(np.random.rand(5,5),2)\n",
    "print(base_array)\n",
    "print(base_array.shape)\n",
    "\n",
    "print(\"\\n\")\n",
    "\n",
    "# Repeat rows\n",
    "array_repeated = np.repeat(base_array, 2, axis=0)\n",
    "print(array_repeated)\n",
    "print(array_repeated.shape)\n",
    "\n",
    "print(\"\\n\")\n",
    "\n",
    "# Repeat colomns\n",
    "array_repeated = np.repeat(base_array, 2,axis=1)\n",
    "print(array_repeated)\n",
    "print(array_repeated.shape)"
   ]
  },
  {
   "cell_type": "markdown",
   "metadata": {},
   "source": [
    "### Copy"
   ]
  },
  {
   "cell_type": "code",
   "execution_count": null,
   "metadata": {},
   "outputs": [],
   "source": [
    "# Copying arrays\n",
    "array_c = np.array([1, 2, 3])\n",
    "array_d = array_c.copy()  # Create a copy\n",
    "array_e = array_c          # Reference to original\n",
    "\n",
    "array_d[0] = 100\n",
    "array_e[0] = 200\n",
    "print(array_c)  # Original array remains unchanged\n",
    "print(array_d)  # Modified copy\n",
    "print(array_e)  # Reference to original"
   ]
  },
  {
   "cell_type": "markdown",
   "metadata": {},
   "source": [
    "**Attention!** If you use `copy()` function, then the copied array have no correlations with the original array from now on. However, if you simply use the **assignment operator**, then it just creates a **references** of the original array. Modifying one's value will affect the other's!"
   ]
  },
  {
   "cell_type": "markdown",
   "metadata": {},
   "source": [
    "### Reshape"
   ]
  },
  {
   "cell_type": "markdown",
   "metadata": {},
   "source": [
    "You can reshape the size of an array by using the `reshape` commands in numpy. For example, you can compress a 25x25 image into a 625-dimensional column vector. But **make sure the reshaped size have same numbers of elements compared with previous ones**.\n",
    "\n",
    "**Stacking** is a command which is likely to `repeat`, but it can operate on different arrays with same row-length (using hstack) or colomn-length (using vstack)."
   ]
  },
  {
   "cell_type": "code",
   "execution_count": null,
   "metadata": {},
   "outputs": [],
   "source": [
    "# Reshaping arrays\n",
    "before = np.array([[1, 2, 3, 4], [5, 6, 7, 8]])\n",
    "after = before.reshape((4, 2))\n",
    "print(after)\n",
    "\n",
    "# Vertical stacking\n",
    "v1 = np.array([1, 2, 3, 4])\n",
    "v2 = np.array([5, 6, 7, 8])\n",
    "stacked_vertical = np.vstack([v1, v2, v1, v2])\n",
    "print(stacked_vertical)\n",
    "\n",
    "# Horizontal stacking\n",
    "h1 = np.ones((2, 4))\n",
    "h2 = np.zeros((2, 2))\n",
    "stacked_horizontal = np.hstack((h1, h2))\n",
    "print(stacked_horizontal)"
   ]
  },
  {
   "cell_type": "markdown",
   "metadata": {},
   "source": [
    "## Linear Algebra and other mathematical operations"
   ]
  },
  {
   "cell_type": "markdown",
   "metadata": {},
   "source": [
    "Here is **Linear ALgebra**! You can implement various computations regarding matrix and arrays in numpy."
   ]
  },
  {
   "cell_type": "markdown",
   "metadata": {},
   "source": [
    "### Basic Mathematical operations"
   ]
  },
  {
   "cell_type": "code",
   "execution_count": null,
   "metadata": {},
   "outputs": [],
   "source": [
    "array_f = np.array([1, 2, 3, 4])\n",
    "print(array_f + 2)  # Addition\n",
    "print(array_f - 2)  # Subtraction\n",
    "print(array_f * 2)  # Multiplication\n",
    "print(array_f / 2)  # Division\n",
    "\n",
    "# Element-wise operations with another array\n",
    "array_g = np.array([1, 0, 1, 0])\n",
    "print(array_f + array_g)  # Element-wise addition\n",
    "\n",
    "# Power and trigonometric functions\n",
    "print(array_f ** 2)  # Squaring\n",
    "print(np.cos(array_f))  # Cosine function"
   ]
  },
  {
   "cell_type": "markdown",
   "metadata": {},
   "source": [
    "### Linear Algebra"
   ]
  },
  {
   "cell_type": "markdown",
   "metadata": {},
   "source": [
    "You can go through the [linalg website](https://numpy.org/doc/2.2/reference/routines.linalg.html) for more caiculations. The python scripts demonstrat several basic operations of it."
   ]
  },
  {
   "cell_type": "code",
   "execution_count": null,
   "metadata": {},
   "outputs": [],
   "source": [
    "import numpy as np\n",
    "\n",
    "# Create random matrices\n",
    "A = np.random.rand(3, 3)\n",
    "B = np.random.rand(3, 3)\n",
    "\n",
    "# Matrix Addition\n",
    "addition_result = np.add(A, B)\n",
    "\n",
    "# Matrix Subtraction\n",
    "subtraction_result = np.subtract(A, B)\n",
    "\n",
    "# Matrix Multiplication\n",
    "multiplication_result = np.matmul(A, B)\n",
    "# You can also use A @ B!\n",
    "\n",
    "# Matrix pow\n",
    "matrix_exp = np.linalg.matrix_power(A, 3)\n",
    "\n",
    "# Matrix Transpose\n",
    "transpose_result = np.transpose(A)\n",
    "\n",
    "# Matrix Inverse\n",
    "inverse_result = np.linalg.inv(A)\n",
    "\n",
    "# Matrix Determinant, rank and trace\n",
    "determinant_result = np.linalg.det(A)\n",
    "rank_result = np.linalg.matrix_rank(A)\n",
    "trace_result = np.trace(A)\n",
    "\n",
    "# Eigenvalues and Eigenvectors\n",
    "eigenvalues, eigenvectors = np.linalg.eig(A)\n",
    "\n",
    "# Solve Linear System (Ax = b)\n",
    "b = np.random.rand(3)\n",
    "solution = np.linalg.solve(A, b)\n",
    "\n",
    "# SVD\n",
    "U, S, V = np.linalg.svd(A)\n",
    "\n",
    "# Print results\n",
    "print(\"Matrix A:\\n\", A)\n",
    "print(\"Matrix B:\\n\", B)\n",
    "print(\"Addition Result:\\n\", addition_result)\n",
    "print(\"Subtraction Result:\\n\", subtraction_result)\n",
    "print(\"Multiplication Result:\\n\", multiplication_result)\n",
    "print(\"Transpose of A:\\n\", transpose_result)\n",
    "print(\"Inverse of A:\\n\", inverse_result)\n",
    "print(\"Determinant of A:\\n\", determinant_result)\n",
    "print(\"Eigenvalues of A:\\n\", eigenvalues)\n",
    "print(\"Eigenvectors of A:\\n\", eigenvectors)\n",
    "print(\"Solution of Ax = b:\\n\", solution)\n",
    "print(\"SVD\\n\", U, S, V)\n"
   ]
  },
  {
   "cell_type": "markdown",
   "metadata": {},
   "source": [
    "## Statics"
   ]
  },
  {
   "cell_type": "code",
   "execution_count": null,
   "metadata": {},
   "outputs": [],
   "source": [
    "stats_array = np.array([[1, 2, 3], [4, 5, 6]])\n",
    "print(np.min(stats_array))  # Minimum value\n",
    "print(np.max(stats_array, axis=1))  # Maximum value along rows\n",
    "print(np.sum(stats_array, axis=0))  # Sum along columns"
   ]
  },
  {
   "cell_type": "markdown",
   "metadata": {},
   "source": [
    "### Boolean Mask"
   ]
  },
  {
   "cell_type": "code",
   "execution_count": null,
   "metadata": {},
   "outputs": [],
   "source": [
    "# Boolean masking example\n",
    "boolean_mask = ~((stats_array > 2) & (stats_array < 5))\n",
    "print(boolean_mask)"
   ]
  },
  {
   "cell_type": "markdown",
   "metadata": {},
   "source": [
    "## Advanced Usage"
   ]
  },
  {
   "cell_type": "markdown",
   "metadata": {},
   "source": [
    "### Loading data from files"
   ]
  },
  {
   "cell_type": "markdown",
   "metadata": {},
   "source": [
    "You can use `genfromtxt()` function to autimatically write the arrays from txt file into numpy. Moreover, you can use `savetxt()` function to save your arrays into other files!"
   ]
  },
  {
   "cell_type": "code",
   "execution_count": null,
   "metadata": {},
   "outputs": [],
   "source": [
    "# Loading data from a CSV file\n",
    "filedata = np.genfromtxt('data.txt', delimiter=' ')\n",
    "filedata = filedata.astype('int32')\n",
    "print(filedata)"
   ]
  },
  {
   "cell_type": "code",
   "execution_count": null,
   "metadata": {},
   "outputs": [],
   "source": [
    "# Writing the array to a text file\n",
    "output_file = 'output_data.txt'\n",
    "np.savetxt(output_file, filedata, delimiter=' ', fmt='%d')\n",
    "\n",
    "print(f\"Data has been written to {output_file}\")"
   ]
  },
  {
   "cell_type": "markdown",
   "metadata": {},
   "source": [
    "## Conclusion"
   ]
  },
  {
   "cell_type": "markdown",
   "metadata": {},
   "source": [
    "This memo provides a concise overview of NumPy's capabilities, including array creation, manipulation, mathematical operations, and more. For further details, refer to the official [NumPy documentation](https://numpy.org/doc/stable/).\n",
    "\n"
   ]
  },
  {
   "cell_type": "markdown",
   "metadata": {},
   "source": []
  }
 ],
 "metadata": {
  "kernelspec": {
   "display_name": "base",
   "language": "python",
   "name": "python3"
  },
  "language_info": {
   "codemirror_mode": {
    "name": "ipython",
    "version": 3
   },
   "file_extension": ".py",
   "mimetype": "text/x-python",
   "name": "python",
   "nbconvert_exporter": "python",
   "pygments_lexer": "ipython3",
   "version": "3.12.7"
  }
 },
 "nbformat": 4,
 "nbformat_minor": 2
}
