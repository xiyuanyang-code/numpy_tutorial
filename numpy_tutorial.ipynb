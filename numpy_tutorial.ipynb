{
 "cells": [
  {
   "cell_type": "markdown",
   "metadata": {},
   "source": [
    "# Numpy tutorial"
   ]
  },
  {
   "cell_type": "markdown",
   "metadata": {},
   "source": [
    "## Preliminaries"
   ]
  },
  {
   "cell_type": "markdown",
   "metadata": {},
   "source": [
    "\n",
    "This command is for importing the numpy module in your python scripts:\n",
    "```bash\n",
    "pip install numpy\n",
    "```\n",
    "\n",
    "You can use functions in numpy via `np.XX` (e.g. `np.array`)\n",
    "\n",
    "You can replace it with:\n",
    "\n",
    "- import numpy as (anything word you like)\n",
    "\n",
    "- from numpy import numpy (danger! This may cause conflicts in different functions. I don't recommend for this way of importing numpy)\n"
   ]
  },
  {
   "cell_type": "code",
   "execution_count": 2,
   "metadata": {},
   "outputs": [],
   "source": [
    "# make sure you have installed numpy via:\n",
    "# pip install numpy\n",
    "\n",
    "import numpy as np"
   ]
  },
  {
   "cell_type": "markdown",
   "metadata": {},
   "source": [
    "## Creating arrays and matrix"
   ]
  },
  {
   "cell_type": "markdown",
   "metadata": {},
   "source": [
    "You can create **arrays** in `numpy` of different dimensions, which is one of the most frequently used commands in numpy.\n",
    "\n",
    "- Creating arrays manually\n",
    "\n",
    "    You can create arrays manually by **writing all elements into the arrays**.\n",
    "\n"
   ]
  },
  {
   "cell_type": "code",
   "execution_count": 2,
   "metadata": {},
   "outputs": [
    {
     "name": "stdout",
     "output_type": "stream",
     "text": [
      "Showing arrays of one-dimension: \n",
      " [1 2 3 4]\n",
      "Showing arrays of two-dimensions: \n",
      " [[ 1  2  3  4]\n",
      " [ 5  6  7  8]\n",
      " [ 9 10 11 12]\n",
      " [13  1  4 16]]\n",
      "Showing arrays of three-dimensions: \n",
      " [[[1 2]\n",
      "  [3 4]]\n",
      "\n",
      " [[5 6]\n",
      "  [7 8]]]\n"
     ]
    }
   ],
   "source": [
    "# Creating arrays manually\n",
    "\n",
    "# One dimension (like a vector storing int value)\n",
    "array_1d = np.array([1,2,3,4])\n",
    "\n",
    "# Two dimensions (4*4)\n",
    "array_2d = np.array([[1,2,3,4],[5,6,7,8],[9,10,11,12],[13,1,4,16]])\n",
    "\n",
    "# Three dimensions (more complex)\n",
    "array_3d = np.array([[[1,2],[3,4]],[[5,6],[7,8]]])\n",
    "\n",
    "# Visualize\n",
    "print(f\"Showing arrays of one-dimension: \\n\",array_1d)\n",
    "print(f\"Showing arrays of two-dimensions: \\n\",array_2d)\n",
    "print(f\"Showing arrays of three-dimensions: \\n\",array_3d)\n"
   ]
  },
  {
   "cell_type": "markdown",
   "metadata": {},
   "source": [
    "- Creating several **templates**\n",
    "\n",
    "    It's time-consuming to write all elements in your python scripts if the size or the dimensions of arrays becomes very large. (More bigger the dimension is, there are more square backets!)\n",
    "\n",
    "    Thus, you can use the templates in `numpy` to initilize an array automatically."
   ]
  },
  {
   "cell_type": "code",
   "execution_count": null,
   "metadata": {},
   "outputs": [
    {
     "name": "stdout",
     "output_type": "stream",
     "text": [
      "[[0 0 0 0 0]\n",
      " [0 0 0 0 0]\n",
      " [0 0 0 0 0]\n",
      " [0 0 0 0 0]\n",
      " [0 0 0 0 0]]\n",
      "[[0. 0. 0. 0. 0.]\n",
      " [0. 0. 0. 0. 0.]\n",
      " [0. 0. 0. 0. 0.]\n",
      " [0. 0. 0. 0. 0.]]\n",
      "[[[0. 0.]\n",
      "  [0. 0.]]\n",
      "\n",
      " [[0. 0.]\n",
      "  [0. 0.]]]\n"
     ]
    }
   ],
   "source": [
    "# Creating several templates\n",
    "\n",
    "# If all elements of the matrix is of the same initial value:\n",
    "\n",
    "# For zero-matrix\n",
    "zero_int_matrix = np.zeros((5,5), dtype = 'int64')\n",
    "zero_double_matrix = np.zeros((4,5), dtype = 'float64')\n",
    "zero_int_bigger_matrix = np.zeros((2,2,2))\n",
    "\n",
    "print(zero_int_matrix)\n",
    "print(zero_double_matrix)\n",
    "print(zero_int_bigger_matrix)\n"
   ]
  },
  {
   "cell_type": "code",
   "execution_count": 7,
   "metadata": {},
   "outputs": [
    {
     "name": "stdout",
     "output_type": "stream",
     "text": [
      "[[64 64 64 64]\n",
      " [64 64 64 64]\n",
      " [64 64 64 64]]\n"
     ]
    }
   ],
   "source": [
    "# Filled with a specific number\n",
    "tobefilled = 64\n",
    "\n",
    "filled_array = np.full((3,4), fill_value= tobefilled, dtype = 'int64')\n",
    "print(filled_array)\n"
   ]
  },
  {
   "cell_type": "markdown",
   "metadata": {},
   "source": []
  }
 ],
 "metadata": {
  "kernelspec": {
   "display_name": "base",
   "language": "python",
   "name": "python3"
  },
  "language_info": {
   "codemirror_mode": {
    "name": "ipython",
    "version": 3
   },
   "file_extension": ".py",
   "mimetype": "text/x-python",
   "name": "python",
   "nbconvert_exporter": "python",
   "pygments_lexer": "ipython3",
   "version": "3.12.7"
  }
 },
 "nbformat": 4,
 "nbformat_minor": 2
}
