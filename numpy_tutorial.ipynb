{
 "cells": [
  {
   "cell_type": "markdown",
   "metadata": {},
   "source": [
    "# Numpy tutorial"
   ]
  },
  {
   "cell_type": "markdown",
   "metadata": {},
   "source": [
    "## Preliminaries"
   ]
  },
  {
   "cell_type": "markdown",
   "metadata": {},
   "source": [
    "\n",
    "This command is for importing the numpy module in your python scripts:\n",
    "```bash\n",
    "pip install numpy\n",
    "```\n",
    "\n",
    "You can use functions in numpy via `np.XX` (e.g. `np.array`)\n",
    "\n",
    "You can replace it with:\n",
    "\n",
    "- import numpy as (anything word you like)\n",
    "\n",
    "- from numpy import numpy (danger! This may cause conflicts in different functions. I don't recommend for this way of importing numpy)\n"
   ]
  },
  {
   "cell_type": "code",
   "execution_count": 2,
   "metadata": {},
   "outputs": [],
   "source": [
    "# make sure you have installed numpy via:\n",
    "# pip install numpy\n",
    "\n",
    "import numpy as np"
   ]
  },
  {
   "cell_type": "markdown",
   "metadata": {},
   "source": [
    "## Creating arrays and matrix"
   ]
  },
  {
   "cell_type": "markdown",
   "metadata": {},
   "source": [
    "You can create **arrays** in `numpy` of different dimensions, which is one of the most frequently used commands in numpy.\n",
    "\n",
    "- Creating arrays manually\n",
    "\n",
    "    You can create arrays manually by **writing all elements into the arrays**.\n",
    "\n"
   ]
  },
  {
   "cell_type": "code",
   "execution_count": null,
   "metadata": {},
   "outputs": [],
   "source": [
    "# Creating arrays manually\n",
    "\n",
    "# One dimension (like a vector storing int value)\n",
    "array_1d = np.array([1,2,3,4])\n",
    "\n",
    "# Two dimensions (4*4)\n",
    "array_2d = np.array([[1,2,3,4],[5,6,7,8],[9,10,11,12],[13,1,4,16]])\n",
    "\n",
    "# Three dimensions (more complex)\n",
    "array_3d = np.array([[[1,2],[3,4]],[[5,6],[7,8]]])\n",
    "\n",
    "# Visualize\n",
    "print(f\"Showing arrays of one-dimension: \\n\",array_1d)\n",
    "print(f\"Showing arrays of two-dimensions: \\n\",array_2d)\n",
    "print(f\"Showing arrays of three-dimensions: \\n\",array_3d)\n"
   ]
  },
  {
   "cell_type": "markdown",
   "metadata": {},
   "source": [
    "- Creating several **templates**\n",
    "\n",
    "    It's time-consuming to write all elements in your python scripts if the size or the dimensions of arrays becomes very large. (More bigger the dimension is, there are more square backets!)\n",
    "\n",
    "    Thus, you can use the templates in `numpy` to initilize an array automatically."
   ]
  },
  {
   "cell_type": "code",
   "execution_count": null,
   "metadata": {},
   "outputs": [],
   "source": [
    "# Creating several templates\n",
    "\n",
    "# If all elements of the matrix is of the same initial value:\n",
    "\n",
    "# For zero-matrix\n",
    "zero_int_matrix = np.zeros((5,5), dtype = 'int64')\n",
    "zero_double_matrix = np.zeros((4,5), dtype = 'float64')\n",
    "zero_int_bigger_matrix = np.zeros((2,2,2))\n",
    "\n",
    "print(zero_int_matrix)\n",
    "print(zero_double_matrix)\n",
    "print(zero_int_bigger_matrix)\n",
    "\n",
    "\n",
    "# For matrix filled with ones\n",
    "ones_matrix = np.ones((4,4,2), dtype='int32')\n",
    "print(ones_matrix)\n",
    "\n",
    "# Identity Matrix\n",
    "indentity_matrix = np.identity(6)\n",
    "print(indentity_matrix)\n"
   ]
  },
  {
   "cell_type": "code",
   "execution_count": null,
   "metadata": {},
   "outputs": [],
   "source": [
    "# Filled with a specific number\n",
    "tobefilled = 64\n",
    "\n",
    "# Using full to fill an array with a given size (like 3*4)\n",
    "filled_array = np.full((3,4), fill_value= tobefilled, dtype = 'int64')\n",
    "print(filled_array)\n",
    "\n",
    "# Using full_like to return a full array with the same shape and type as a given array.\n",
    "filled_like_1 = np.full_like(filled_array, fill_value=tobefilled, dtype='float64')\n",
    "filled_like_2 = np.full_like(filled_array, fill_value= 1)\n",
    "\n",
    "print(filled_like_1)\n",
    "print(filled_like_2)"
   ]
  },
  {
   "cell_type": "markdown",
   "metadata": {},
   "source": [
    "Moreover, you can generate arrays **randomly** using the `random` module in numpy.\n",
    "\n",
    "- `np.random.rand` function is used to generate an array of a given size with a a uniform distribution over [0, 1).\n",
    "\n",
    "- `randint` function is used to return random integers from a boundary of [a,b)."
   ]
  },
  {
   "cell_type": "code",
   "execution_count": null,
   "metadata": {},
   "outputs": [],
   "source": [
    "# Generating random arrays\n",
    "\n",
    "# Create an array of the given shape and populate it with random samples from a uniform distribution over [0, 1).\n",
    "random_decimals = np.round(np.random.rand(10, 10), 2)\n",
    "print(random_decimals)\n",
    "\n",
    "# Return random integers from low (inclusive) to high (exclusive).\n",
    "random_integers = np.random.randint(-4, 8, size=(3, 3))\n",
    "print(random_integers)\n"
   ]
  },
  {
   "cell_type": "markdown",
   "metadata": {},
   "source": [
    "## Checking parameters of Arrays"
   ]
  },
  {
   "cell_type": "markdown",
   "metadata": {},
   "source": [
    "You can checking several basic information of an array using `print()` function.\n",
    "\n",
    "- print the array: It will show all elements of the array.\n",
    "\n",
    "- `dtype`: The data type of the array.\n",
    "\n",
    "- `ndim`: The dimensions of the array.\n",
    "\n",
    "- `shape`: The size of the array.\n",
    "\n",
    "- `itemsize`: The size of the single element in the array.\n",
    "\n",
    "- `nbytes`: The total size of the array.\n"
   ]
  },
  {
   "cell_type": "code",
   "execution_count": null,
   "metadata": {},
   "outputs": [],
   "source": [
    "# Checking parameters of Arrays\n",
    "\n",
    "checked_array = np.round(np.random.rand(4,4,4))\n",
    "\n",
    "print(checked_array)\n",
    "print(checked_array.dtype)\n",
    "print(checked_array.ndim)\n",
    "print(checked_array.shape)\n",
    "print(checked_array.itemsize)\n",
    "print(checked_array.nbytes)"
   ]
  },
  {
   "cell_type": "markdown",
   "metadata": {},
   "source": [
    "## Accessing and modifying elements"
   ]
  },
  {
   "cell_type": "markdown",
   "metadata": {},
   "source": [
    "## Repetition, Copying and Reshaping"
   ]
  },
  {
   "cell_type": "markdown",
   "metadata": {},
   "source": [
    "## Linear Algebra and other mathematical operations"
   ]
  },
  {
   "cell_type": "markdown",
   "metadata": {},
   "source": [
    "## Statics"
   ]
  },
  {
   "cell_type": "markdown",
   "metadata": {},
   "source": [
    "## Advanced Usage"
   ]
  },
  {
   "cell_type": "markdown",
   "metadata": {},
   "source": []
  }
 ],
 "metadata": {
  "kernelspec": {
   "display_name": "base",
   "language": "python",
   "name": "python3"
  },
  "language_info": {
   "codemirror_mode": {
    "name": "ipython",
    "version": 3
   },
   "file_extension": ".py",
   "mimetype": "text/x-python",
   "name": "python",
   "nbconvert_exporter": "python",
   "pygments_lexer": "ipython3",
   "version": "3.12.7"
  }
 },
 "nbformat": 4,
 "nbformat_minor": 2
}
